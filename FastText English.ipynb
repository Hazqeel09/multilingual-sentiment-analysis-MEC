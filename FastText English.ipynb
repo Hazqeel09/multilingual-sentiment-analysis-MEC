{
 "cells": [
  {
   "cell_type": "code",
   "execution_count": 7,
   "metadata": {},
   "outputs": [],
   "source": [
    "import fasttext\n",
    "import subprocess\n",
    "\n",
    "ewv150 = 'Data\\FastText\\ccen150vec\\ccen150.vec'\n",
    "ewv300 = 'Data\\FastText\\ccen300vec\\ccen300.vec'\n",
    "ewb = 'D:\\AllAnaconda\\envs\\twtAnalytics\\Lib\\site-packages\\gensim\\test\\test_data\\ccen300bin\\ccen300.bin'"
   ]
  },
  {
   "cell_type": "code",
   "execution_count": 12,
   "metadata": {},
   "outputs": [],
   "source": [
    "cmd = 'head -n 1682883 merged_e.txt > merged_e.train'\n",
    "returned_value = subprocess.call(cmd, shell=True)\n",
    "cmd = 'tail -n 420720 merged_e.txt > merged_e.valid'\n",
    "returned_value = subprocess.call(cmd, shell=True)"
   ]
  },
  {
   "cell_type": "code",
   "execution_count": 14,
   "metadata": {},
   "outputs": [],
   "source": [
    "model = fasttext.train_supervised(input=\"Data/merged_e.train\")"
   ]
  },
  {
   "cell_type": "code",
   "execution_count": 15,
   "metadata": {},
   "outputs": [
    {
     "data": {
      "text/plain": [
       "<fasttext.FastText._FastText at 0x20038afc280>"
      ]
     },
     "execution_count": 15,
     "metadata": {},
     "output_type": "execute_result"
    }
   ],
   "source": [
    "model"
   ]
  },
  {
   "cell_type": "code",
   "execution_count": 18,
   "metadata": {},
   "outputs": [
    {
     "data": {
      "text/plain": [
       "(('__label__positive',), array([0.72178054]))"
      ]
     },
     "execution_count": 18,
     "metadata": {},
     "output_type": "execute_result"
    }
   ],
   "source": [
    "model.predict(\"Ayy, got new laptop today\")"
   ]
  },
  {
   "cell_type": "code",
   "execution_count": 20,
   "metadata": {},
   "outputs": [
    {
     "data": {
      "text/plain": [
       "(('__label__negative',), array([0.79808348]))"
      ]
     },
     "execution_count": 20,
     "metadata": {},
     "output_type": "execute_result"
    }
   ],
   "source": [
    "model.predict(\"i want to hang myself\")"
   ]
  },
  {
   "cell_type": "code",
   "execution_count": 21,
   "metadata": {},
   "outputs": [
    {
     "data": {
      "text/plain": [
       "(420721, 0.8223502035790939, 0.8223502035790939)"
      ]
     },
     "execution_count": 21,
     "metadata": {},
     "output_type": "execute_result"
    }
   ],
   "source": [
    "model.test(\"Data/merged_e.valid\")"
   ]
  },
  {
   "cell_type": "code",
   "execution_count": 22,
   "metadata": {},
   "outputs": [],
   "source": [
    "model_at = fasttext.train_supervised(input='Data/merged_e.train', autotuneValidationFile='Data/merged_e.valid')"
   ]
  },
  {
   "cell_type": "code",
   "execution_count": 23,
   "metadata": {},
   "outputs": [
    {
     "data": {
      "text/plain": [
       "(420721, 0.8332220164907386, 0.8332220164907386)"
      ]
     },
     "execution_count": 23,
     "metadata": {},
     "output_type": "execute_result"
    }
   ],
   "source": [
    "model_at.test(\"Data/merged_e.valid\")"
   ]
  },
  {
   "cell_type": "code",
   "execution_count": 35,
   "metadata": {},
   "outputs": [],
   "source": [
    "model_sp = fasttext.train_supervised(input='Data/merged_e.train', wordNgrams=3)"
   ]
  },
  {
   "cell_type": "code",
   "execution_count": 36,
   "metadata": {},
   "outputs": [
    {
     "data": {
      "text/plain": [
       "(420721, 0.8317127027174779, 0.8317127027174779)"
      ]
     },
     "execution_count": 36,
     "metadata": {},
     "output_type": "execute_result"
    }
   ],
   "source": [
    "model_sp.test(\"Data/merged_e.valid\")"
   ]
  },
  {
   "cell_type": "code",
   "execution_count": 39,
   "metadata": {},
   "outputs": [
    {
     "name": "stdout",
     "output_type": "stream",
     "text": [
      "autotuneDuration -> 300\n",
      "autotuneMetric -> f1\n",
      "autotuneModelSize -> \n",
      "autotunePredictions -> 1\n",
      "autotuneValidationFile -> Data/merged_e.valid\n",
      "bucket -> 2620593\n",
      "cutoff -> 0\n",
      "dim -> 168\n",
      "dsub -> 2\n",
      "epoch -> 3\n",
      "input -> Data/merged_e.train\n",
      "label -> __label__\n",
      "loss -> loss_name.softmax\n",
      "lr -> 0.21604105365003676\n",
      "lrUpdateRate -> 100\n",
      "maxn -> 0\n",
      "minCount -> 1\n",
      "minCountLabel -> 0\n",
      "minn -> 0\n",
      "model -> model_name.supervised\n",
      "neg -> 5\n",
      "output -> \n",
      "pretrainedVectors -> \n",
      "qnorm -> False\n",
      "qout -> False\n",
      "retrain -> False\n",
      "saveOutput -> False\n",
      "seed -> 0\n",
      "setManual -> <bound method PyCapsule.setManual of <fasttext_pybind.args object at 0x0000020040E2F670>>\n",
      "t -> 0.0001\n",
      "thread -> 11\n",
      "verbose -> 2\n",
      "wordNgrams -> 4\n",
      "ws -> 5\n"
     ]
    }
   ],
   "source": [
    "args_obj = model_at.f.getArgs()\n",
    "for hparam in dir(args_obj):\n",
    "    if not hparam.startswith('__'):\n",
    "        print(f\"{hparam} -> {getattr(args_obj, hparam)}\")"
   ]
  },
  {
   "cell_type": "code",
   "execution_count": 3,
   "metadata": {},
   "outputs": [],
   "source": [
    "model_at_neo = fasttext.train_supervised(input='Data/merged_e.train', autotuneValidationFile='Data/merged_e.valid', autotuneDuration=900)"
   ]
  },
  {
   "cell_type": "code",
   "execution_count": 4,
   "metadata": {},
   "outputs": [
    {
     "data": {
      "text/plain": [
       "(420721, 0.8368134702094737, 0.8368134702094737)"
      ]
     },
     "execution_count": 4,
     "metadata": {},
     "output_type": "execute_result"
    }
   ],
   "source": [
    "model_at_neo.test(\"Data/merged_e.valid\")"
   ]
  },
  {
   "cell_type": "code",
   "execution_count": 5,
   "metadata": {},
   "outputs": [
    {
     "name": "stdout",
     "output_type": "stream",
     "text": [
      "autotuneDuration -> 900\n",
      "autotuneMetric -> f1\n",
      "autotuneModelSize -> \n",
      "autotunePredictions -> 1\n",
      "autotuneValidationFile -> Data/merged_e.valid\n",
      "bucket -> 8797462\n",
      "cutoff -> 0\n",
      "dim -> 155\n",
      "dsub -> 2\n",
      "epoch -> 9\n",
      "input -> Data/merged_e.train\n",
      "label -> __label__\n",
      "loss -> loss_name.softmax\n",
      "lr -> 0.1733353459269137\n",
      "lrUpdateRate -> 100\n",
      "maxn -> 0\n",
      "minCount -> 1\n",
      "minCountLabel -> 0\n",
      "minn -> 0\n",
      "model -> model_name.supervised\n",
      "neg -> 5\n",
      "output -> \n",
      "pretrainedVectors -> \n",
      "qnorm -> False\n",
      "qout -> False\n",
      "retrain -> False\n",
      "saveOutput -> False\n",
      "seed -> 0\n",
      "setManual -> <bound method PyCapsule.setManual of <fasttext_pybind.args object at 0x000002870D0944B0>>\n",
      "t -> 0.0001\n",
      "thread -> 11\n",
      "verbose -> 2\n",
      "wordNgrams -> 5\n",
      "ws -> 5\n"
     ]
    }
   ],
   "source": [
    "args_obj = model_at_neo.f.getArgs()\n",
    "for hparam in dir(args_obj):\n",
    "    if not hparam.startswith('__'):\n",
    "        print(f\"{hparam} -> {getattr(args_obj, hparam)}\")"
   ]
  },
  {
   "cell_type": "code",
   "execution_count": 2,
   "metadata": {},
   "outputs": [],
   "source": [
    "model_at_wtv = fasttext.train_supervised(input='Data/merged_e.train',dim = 300, pretrainedVectors= ewv, autotuneValidationFile='Data/merged_e.valid', autotuneDuration=900)"
   ]
  },
  {
   "cell_type": "code",
   "execution_count": 3,
   "metadata": {},
   "outputs": [
    {
     "data": {
      "text/plain": [
       "(420721, 0.8384558888194314, 0.8384558888194314)"
      ]
     },
     "execution_count": 3,
     "metadata": {},
     "output_type": "execute_result"
    }
   ],
   "source": [
    "model_at_wtv.test(\"Data/merged_e.valid\")"
   ]
  },
  {
   "cell_type": "code",
   "execution_count": 2,
   "metadata": {},
   "outputs": [],
   "source": [
    "model_at_wtv = fasttext.train_supervised(input='Data/merged_e.train',dim = 150, pretrainedVectors= ewv, autotuneValidationFile='Data/merged_e.valid', autotuneDuration=900)"
   ]
  },
  {
   "cell_type": "code",
   "execution_count": 3,
   "metadata": {},
   "outputs": [
    {
     "data": {
      "text/plain": [
       "(420721, 0.8385913705282123, 0.8385913705282123)"
      ]
     },
     "execution_count": 3,
     "metadata": {},
     "output_type": "execute_result"
    }
   ],
   "source": [
    "model_at_wtv.test(\"Data/merged_e.valid\")"
   ]
  },
  {
   "cell_type": "code",
   "execution_count": 4,
   "metadata": {},
   "outputs": [
    {
     "name": "stdout",
     "output_type": "stream",
     "text": [
      "autotuneDuration -> 900\n",
      "autotuneMetric -> f1\n",
      "autotuneModelSize -> \n",
      "autotunePredictions -> 1\n",
      "autotuneValidationFile -> Data/merged_e.valid\n",
      "bucket -> 2218417\n",
      "cutoff -> 0\n",
      "dim -> 150\n",
      "dsub -> 2\n",
      "epoch -> 1\n",
      "input -> Data/merged_e.train\n",
      "label -> __label__\n",
      "loss -> loss_name.softmax\n",
      "lr -> 0.7942074385164684\n",
      "lrUpdateRate -> 100\n",
      "maxn -> 0\n",
      "minCount -> 1\n",
      "minCountLabel -> 0\n",
      "minn -> 0\n",
      "model -> model_name.supervised\n",
      "neg -> 5\n",
      "output -> \n",
      "pretrainedVectors -> Data\\FastText\\ccen150vec\\ccen150.vec\n",
      "qnorm -> False\n",
      "qout -> False\n",
      "retrain -> False\n",
      "saveOutput -> False\n",
      "seed -> 0\n",
      "setManual -> <bound method PyCapsule.setManual of <fasttext_pybind.args object at 0x00000207BB284430>>\n",
      "t -> 0.0001\n",
      "thread -> 11\n",
      "verbose -> 2\n",
      "wordNgrams -> 5\n",
      "ws -> 5\n"
     ]
    }
   ],
   "source": [
    "args_obj = model_at_wtv.f.getArgs()\n",
    "for hparam in dir(args_obj):\n",
    "    if not hparam.startswith('__'):\n",
    "        print(f\"{hparam} -> {getattr(args_obj, hparam)}\")"
   ]
  },
  {
   "cell_type": "code",
   "execution_count": 6,
   "metadata": {},
   "outputs": [
    {
     "name": "stdout",
     "output_type": "stream",
     "text": [
      "(420721, 0.8385913705282123, 0.8385913705282123)\n"
     ]
    }
   ],
   "source": [
    "print(model_at_wtv.test(\"Data/merged_e.valid\"))"
   ]
  },
  {
   "cell_type": "code",
   "execution_count": 8,
   "metadata": {},
   "outputs": [
    {
     "name": "stdout",
     "output_type": "stream",
     "text": [
      "(420721, 0.842268391641967, 0.842268391641967)\n",
      "autotuneDuration -> 3900\n",
      "autotuneMetric -> f1\n",
      "autotuneModelSize -> \n",
      "autotunePredictions -> 1\n",
      "autotuneValidationFile -> Data/merged_e.valid\n",
      "bucket -> 2247803\n",
      "cutoff -> 0\n",
      "dim -> 300\n",
      "dsub -> 2\n",
      "epoch -> 1\n",
      "input -> Data/merged_e.train\n",
      "label -> __label__\n",
      "loss -> loss_name.softmax\n",
      "lr -> 0.13685908511935113\n",
      "lrUpdateRate -> 100\n",
      "maxn -> 0\n",
      "minCount -> 1\n",
      "minCountLabel -> 0\n",
      "minn -> 0\n",
      "model -> model_name.supervised\n",
      "neg -> 5\n",
      "output -> \n",
      "pretrainedVectors -> Data\\FastText\\ccen300vec\\ccen300.vec\n",
      "qnorm -> False\n",
      "qout -> False\n",
      "retrain -> False\n",
      "saveOutput -> False\n",
      "seed -> 0\n",
      "setManual -> <bound method PyCapsule.setManual of <fasttext_pybind.args object at 0x00000207A4E46570>>\n",
      "t -> 0.0001\n",
      "thread -> 11\n",
      "verbose -> 2\n",
      "wordNgrams -> 3\n",
      "ws -> 5\n",
      "(420721, 0.840364517102783, 0.840364517102783)\n",
      "autotuneDuration -> 3900\n",
      "autotuneMetric -> f1\n",
      "autotuneModelSize -> \n",
      "autotunePredictions -> 1\n",
      "autotuneValidationFile -> Data/merged_e.valid\n",
      "bucket -> 5820225\n",
      "cutoff -> 0\n",
      "dim -> 150\n",
      "dsub -> 8\n",
      "epoch -> 1\n",
      "input -> Data/merged_e.train\n",
      "label -> __label__\n",
      "loss -> loss_name.softmax\n",
      "lr -> 0.6521960562088676\n",
      "lrUpdateRate -> 100\n",
      "maxn -> 0\n",
      "minCount -> 1\n",
      "minCountLabel -> 0\n",
      "minn -> 0\n",
      "model -> model_name.supervised\n",
      "neg -> 5\n",
      "output -> \n",
      "pretrainedVectors -> Data\\FastText\\ccen150vec\\ccen150.vec\n",
      "qnorm -> False\n",
      "qout -> False\n",
      "retrain -> False\n",
      "saveOutput -> False\n",
      "seed -> 0\n",
      "setManual -> <bound method PyCapsule.setManual of <fasttext_pybind.args object at 0x00000207BB254BB0>>\n",
      "t -> 0.0001\n",
      "thread -> 11\n",
      "verbose -> 2\n",
      "wordNgrams -> 5\n",
      "ws -> 5\n"
     ]
    }
   ],
   "source": [
    "model_at_wtv300 = fasttext.train_supervised(input='Data/merged_e.train',dim = 300, pretrainedVectors= ewv300, autotuneValidationFile='Data/merged_e.valid', autotuneDuration=3900)\n",
    "print(model_at_wtv300.test(\"Data/merged_e.valid\"))\n",
    "args_obj = model_at_wtv300.f.getArgs()\n",
    "for hparam in dir(args_obj):\n",
    "    if not hparam.startswith('__'):\n",
    "        print(f\"{hparam} -> {getattr(args_obj, hparam)}\")\n",
    "        \n",
    "model_at_wtv150 = fasttext.train_supervised(input='Data/merged_e.train',dim = 150, pretrainedVectors= ewv150, autotuneValidationFile='Data/merged_e.valid', autotuneDuration=3900)\n",
    "print(model_at_wtv150.test(\"Data/merged_e.valid\"))\n",
    "args_obj = model_at_wtv150.f.getArgs()\n",
    "for hparam in dir(args_obj):\n",
    "    if not hparam.startswith('__'):\n",
    "        print(f\"{hparam} -> {getattr(args_obj, hparam)}\")"
   ]
  },
  {
   "cell_type": "code",
   "execution_count": 12,
   "metadata": {},
   "outputs": [],
   "source": [
    "model_at_wtv300.save_model(\"D:/twitter_project/model_e.bin\")"
   ]
  },
  {
   "cell_type": "code",
   "execution_count": 23,
   "metadata": {},
   "outputs": [
    {
     "name": "stdout",
     "output_type": "stream",
     "text": [
      "(('__label__positive',), array([0.86384124]))\n",
      "(('__label__positive',), array([0.94942886]))\n"
     ]
    }
   ],
   "source": [
    "print(model_at_wtv300.predict(\"kinda scary but its a lot of fun\"))\n",
    "print(model_at_wtv150.predict(\"kinda scary but its a lot of fun\"))"
   ]
  },
  {
   "cell_type": "code",
   "execution_count": 24,
   "metadata": {},
   "outputs": [
    {
     "name": "stdout",
     "output_type": "stream",
     "text": [
      "(('__label__positive',), array([0.57819033]))\n",
      "(('__label__positive',), array([0.836945]))\n"
     ]
    }
   ],
   "source": [
    "print(model_at_wtv300.predict(\"i am kidding, what are you expecting\"))\n",
    "print(model_at_wtv150.predict(\"i am kidding, what are you expecting\"))"
   ]
  },
  {
   "cell_type": "code",
   "execution_count": 25,
   "metadata": {},
   "outputs": [
    {
     "name": "stdout",
     "output_type": "stream",
     "text": [
      "(('__label__negative',), array([0.75813121]))\n",
      "(('__label__negative',), array([0.74677485]))\n"
     ]
    }
   ],
   "source": [
    "print(model_at_wtv300.predict(\"nothing heavy, just as usual\"))\n",
    "print(model_at_wtv150.predict(\"nothing heavy, just as usual\"))"
   ]
  },
  {
   "cell_type": "code",
   "execution_count": 26,
   "metadata": {},
   "outputs": [
    {
     "name": "stdout",
     "output_type": "stream",
     "text": [
      "(('__label__positive',), array([0.59249473]))\n",
      "(('__label__positive',), array([0.73875797]))\n"
     ]
    }
   ],
   "source": [
    "print(model_at_wtv300.predict(\"i am in the void, staring endlessly\"))\n",
    "print(model_at_wtv150.predict(\"i am in the void, staring endlessly\"))"
   ]
  },
  {
   "cell_type": "code",
   "execution_count": 27,
   "metadata": {},
   "outputs": [
    {
     "name": "stdout",
     "output_type": "stream",
     "text": [
      "(('__label__negative',), array([0.95858765]))\n",
      "(('__label__negative',), array([0.98333734]))\n"
     ]
    }
   ],
   "source": [
    "print(model_at_wtv300.predict(\"he hit me, damn it\"))\n",
    "print(model_at_wtv150.predict(\"he hit me, damn it\"))"
   ]
  },
  {
   "cell_type": "code",
   "execution_count": 28,
   "metadata": {},
   "outputs": [
    {
     "name": "stdout",
     "output_type": "stream",
     "text": [
      "(('__label__negative',), array([1.0000093]))\n",
      "(('__label__negative',), array([1.00001001]))\n"
     ]
    }
   ],
   "source": [
    "print(model_at_wtv300.predict(\"ffs kill me\"))\n",
    "print(model_at_wtv150.predict(\"ffs kill me\"))"
   ]
  },
  {
   "cell_type": "code",
   "execution_count": 29,
   "metadata": {},
   "outputs": [
    {
     "name": "stdout",
     "output_type": "stream",
     "text": [
      "(('__label__positive',), array([0.80272275]))\n",
      "(('__label__positive',), array([0.8670696]))\n"
     ]
    }
   ],
   "source": [
    "print(model_at_wtv300.predict(\"i saw squirrel on my way here\"))\n",
    "print(model_at_wtv150.predict(\"i saw squirrel on my way here\"))"
   ]
  },
  {
   "cell_type": "code",
   "execution_count": 32,
   "metadata": {},
   "outputs": [
    {
     "name": "stdout",
     "output_type": "stream",
     "text": [
      "(('__label__negative',), array([0.86283702]))\n",
      "(('__label__negative',), array([0.94350499]))\n"
     ]
    }
   ],
   "source": [
    "print(model_at_wtv300.predict(\"forgot my keys, luckily someone picked me up\"))\n",
    "print(model_at_wtv150.predict(\"forgot my keys, luckily someone picked me up\"))"
   ]
  },
  {
   "cell_type": "code",
   "execution_count": 33,
   "metadata": {},
   "outputs": [
    {
     "name": "stdout",
     "output_type": "stream",
     "text": [
      "(('__label__negative',), array([0.90777487]))\n",
      "(('__label__negative',), array([0.8449406]))\n"
     ]
    }
   ],
   "source": [
    "print(model_at_wtv300.predict(\"do not want to spoil you, but they got happy ending\"))\n",
    "print(model_at_wtv150.predict(\"do not want to spoil you, but they got happy ending\"))"
   ]
  },
  {
   "cell_type": "code",
   "execution_count": 34,
   "metadata": {},
   "outputs": [
    {
     "name": "stdout",
     "output_type": "stream",
     "text": [
      "(('__label__positive',), array([0.68772876]))\n",
      "(('__label__positive',), array([0.61417764]))\n"
     ]
    }
   ],
   "source": [
    "print(model_at_wtv300.predict(\"brought red water bottle today\"))\n",
    "print(model_at_wtv150.predict(\"brought red water bottle today\"))"
   ]
  },
  {
   "cell_type": "code",
   "execution_count": 35,
   "metadata": {},
   "outputs": [
    {
     "name": "stdout",
     "output_type": "stream",
     "text": [
      "(('__label__positive',), array([0.75043386]))\n",
      "(('__label__positive',), array([0.72980022]))\n"
     ]
    }
   ],
   "source": [
    "print(model_at_wtv300.predict(\"usual day, usual place, usual food\"))\n",
    "print(model_at_wtv150.predict(\"usual day, usual place, usual food\"))"
   ]
  },
  {
   "cell_type": "code",
   "execution_count": 36,
   "metadata": {},
   "outputs": [
    {
     "name": "stdout",
     "output_type": "stream",
     "text": [
      "(('__label__positive',), array([0.75058222]))\n",
      "(('__label__positive',), array([0.87453169]))\n"
     ]
    }
   ],
   "source": [
    "print(model_at_wtv300.predict(\"this is my mouse, this is my keyboard, this is my laptop screen\"))\n",
    "print(model_at_wtv150.predict(\"this is my mouse, this is my keyboard, this is my laptop screen\"))"
   ]
  },
  {
   "cell_type": "code",
   "execution_count": 37,
   "metadata": {},
   "outputs": [
    {
     "name": "stdout",
     "output_type": "stream",
     "text": [
      "(('__label__positive',), array([0.90762532]))\n",
      "(('__label__positive',), array([0.98143047]))\n"
     ]
    }
   ],
   "source": [
    "print(model_at_wtv300.predict(\"do not forget to wear mask on your way out\"))\n",
    "print(model_at_wtv150.predict(\"do not forget to wear mask on your way out\"))"
   ]
  },
  {
   "cell_type": "code",
   "execution_count": 38,
   "metadata": {},
   "outputs": [
    {
     "name": "stdout",
     "output_type": "stream",
     "text": [
      "(('__label__positive',), array([0.88967162]))\n",
      "(('__label__positive',), array([0.98572016]))\n"
     ]
    }
   ],
   "source": [
    "print(model_at_wtv300.predict(\"we can flatten the curve together\"))\n",
    "print(model_at_wtv150.predict(\"we can flatten the curve together\"))"
   ]
  },
  {
   "cell_type": "code",
   "execution_count": 44,
   "metadata": {},
   "outputs": [
    {
     "name": "stdout",
     "output_type": "stream",
     "text": [
      "(('__label__negative',), array([0.5499754]))\n",
      "(('__label__negative',), array([0.73391855]))\n"
     ]
    }
   ],
   "source": [
    "print(model_at_wtv300.predict(\"he told me to wait. but, how long?\"))\n",
    "print(model_at_wtv150.predict(\"he told me to wait. but, how long?\"))"
   ]
  },
  {
   "cell_type": "code",
   "execution_count": 40,
   "metadata": {},
   "outputs": [
    {
     "name": "stdout",
     "output_type": "stream",
     "text": [
      "(('__label__positive',), array([0.82641524]))\n",
      "(('__label__positive',), array([0.83247501]))\n"
     ]
    }
   ],
   "source": [
    "print(model_at_wtv300.predict(\"Slapped too much stickers on my laptop. Kinda messy but I love it\"))\n",
    "print(model_at_wtv150.predict(\"Slapped too much stickers on my laptop. Kinda messy but I love it\"))"
   ]
  },
  {
   "cell_type": "code",
   "execution_count": 48,
   "metadata": {},
   "outputs": [
    {
     "name": "stdout",
     "output_type": "stream",
     "text": [
      "(('__label__negative',), array([0.67319381]))\n",
      "(('__label__negative',), array([0.81702244]))\n"
     ]
    }
   ],
   "source": [
    "print(model_at_wtv300.predict(\"Slapped too much stickers on my laptop. Kinda messy but nawh it is okay\"))\n",
    "print(model_at_wtv150.predict(\"Slapped too much stickers on my laptop. Kinda messy but nawh it is okay\"))"
   ]
  },
  {
   "cell_type": "code",
   "execution_count": 49,
   "metadata": {},
   "outputs": [
    {
     "name": "stdout",
     "output_type": "stream",
     "text": [
      "(('__label__positive',), array([0.90939772]))\n",
      "(('__label__positive',), array([0.92963326]))\n"
     ]
    }
   ],
   "source": [
    "print(model_at_wtv300.predict(\"This ad is brought to you by Mr Kimberly and Kimbles\"))\n",
    "print(model_at_wtv150.predict(\"This ad is brought to you by Mr Kimberly and Kimbles\"))"
   ]
  },
  {
   "cell_type": "code",
   "execution_count": 50,
   "metadata": {},
   "outputs": [
    {
     "name": "stdout",
     "output_type": "stream",
     "text": [
      "(('__label__positive',), array([0.91520262]))\n",
      "(('__label__positive',), array([0.94204068]))\n"
     ]
    }
   ],
   "source": [
    "print(model_at_wtv300.predict(\"Do you know that microsoft edge use chromium\"))\n",
    "print(model_at_wtv150.predict(\"Do you know that microsoft edge use chromium\"))"
   ]
  },
  {
   "cell_type": "code",
   "execution_count": null,
   "metadata": {},
   "outputs": [],
   "source": []
  }
 ],
 "metadata": {
  "kernelspec": {
   "display_name": "Python 3",
   "language": "python",
   "name": "python3"
  },
  "language_info": {
   "codemirror_mode": {
    "name": "ipython",
    "version": 3
   },
   "file_extension": ".py",
   "mimetype": "text/x-python",
   "name": "python",
   "nbconvert_exporter": "python",
   "pygments_lexer": "ipython3",
   "version": "3.8.5"
  }
 },
 "nbformat": 4,
 "nbformat_minor": 4
}
